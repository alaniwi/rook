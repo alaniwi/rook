{
 "cells": [
  {
   "cell_type": "code",
   "execution_count": null,
   "id": "085ee7da-e95d-4551-a4ab-431f66cd6a0f",
   "metadata": {},
   "outputs": [],
   "source": [
    "import pandas as pd\n",
    "from bokeh.plotting import figure\n",
    "from bokeh.models import ColumnDataSource"
   ]
  },
  {
   "cell_type": "code",
   "execution_count": null,
   "id": "fc69b3e7-4d1c-4d62-a401-5e6321a76da9",
   "metadata": {},
   "outputs": [],
   "source": [
    "url = \"http://rook3.cloud.dkrz.de:80/outputs/rook/b1d519b2-d28d-11eb-8715-fa163e466023/wps_requests.csv\""
   ]
  },
  {
   "cell_type": "code",
   "execution_count": null,
   "id": "3a3f8791-56b2-464b-96ff-16d8d307228c",
   "metadata": {},
   "outputs": [],
   "source": [
    "df = pd.read_csv(url, parse_dates=[4, 5])"
   ]
  },
  {
   "cell_type": "code",
   "execution_count": null,
   "id": "e4fd8c38-1384-43e0-8da8-c9bb5a684629",
   "metadata": {},
   "outputs": [],
   "source": [
    "gdf = df.groupby(pd.Grouper(key=\"time_start\", freq=\"1D\")).count()\n",
    "pdf = pd.DataFrame()\n",
    "pdf[\"Date\"] = pd.to_datetime(gdf.index)\n",
    "pdf[\"Jobs\"] = gdf.uuid.values\n",
    "pdf.sort_values(by='Date', ascending=True)\n"
   ]
  },
  {
   "cell_type": "code",
   "execution_count": null,
   "id": "3cb220e8-1af2-4ea4-89d3-3b16a338c802",
   "metadata": {},
   "outputs": [],
   "source": [
    "plot = figure(\n",
    "        title=\"Activity\",\n",
    "        tools=\"\",\n",
    "        toolbar_location=None,\n",
    "        x_axis_label=\"Date\",\n",
    "        x_axis_type=\"datetime\",\n",
    "        y_axis_label=\"Requests per day\",\n",
    "        sizing_mode=\"scale_width\",\n",
    "        plot_height=100,\n",
    "    )\n",
    "# plot.grid.grid_line_alpha = 0.8\n",
    "plot.line(x=\"Date\", y=\"Jobs\", source=ColumnDataSource(pdf), color='green')"
   ]
  },
  {
   "cell_type": "code",
   "execution_count": null,
   "id": "80a3722d-0b26-4991-8ef0-1c22f469e61b",
   "metadata": {},
   "outputs": [],
   "source": [
    "from bokeh.io import show\n",
    "show(plot)"
   ]
  }
 ],
 "metadata": {
  "kernelspec": {
   "display_name": "Python 3",
   "language": "python",
   "name": "python3"
  },
  "language_info": {
   "codemirror_mode": {
    "name": "ipython",
    "version": 3
   },
   "file_extension": ".py",
   "mimetype": "text/x-python",
   "name": "python",
   "nbconvert_exporter": "python",
   "pygments_lexer": "ipython3",
   "version": "3.7.10"
  }
 },
 "nbformat": 4,
 "nbformat_minor": 5
}
