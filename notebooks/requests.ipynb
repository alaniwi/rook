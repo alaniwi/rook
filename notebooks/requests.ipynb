{
 "cells": [
  {
   "cell_type": "code",
   "execution_count": null,
   "id": "5ce36bb2-1cb0-4ea5-85e6-5c93764cf4cd",
   "metadata": {},
   "outputs": [],
   "source": [
    "import pandas as pd\n",
    "from bokeh.plotting import figure\n",
    "from bokeh.models import ColumnDataSource\n",
    "from bokeh.transform import jitter"
   ]
  },
  {
   "cell_type": "code",
   "execution_count": null,
   "id": "b115d527-8755-4805-86ce-657c895de4a5",
   "metadata": {},
   "outputs": [],
   "source": [
    "url = \"http://rook3.cloud.dkrz.de:80/outputs/rook/34369610-d351-11eb-8f86-fa163e466023/wps_requests.csv\""
   ]
  },
  {
   "cell_type": "code",
   "execution_count": null,
   "id": "f1ec292c-9472-493c-9370-aa901a9afbc5",
   "metadata": {},
   "outputs": [],
   "source": [
    "days = ['Mon', 'Tue', 'Wed', 'Thu', 'Fri', 'Sat', 'Sun']"
   ]
  },
  {
   "cell_type": "code",
   "execution_count": null,
   "id": "475bd84b-0bec-4e06-96bd-b08cc4376cd6",
   "metadata": {},
   "outputs": [],
   "source": [
    "df = pd.read_csv(url, parse_dates=[4, 5])\n",
    "pdf = pd.DataFrame()\n",
    "pdf[\"day\"] = df[\"time_start\"].dt.dayofweek\n",
    "pdf[\"day\"] = pdf[\"day\"].apply(lambda x: days[x])\n",
    "pdf[\"time\"] = df[\"time_start\"].dt.time"
   ]
  },
  {
   "cell_type": "code",
   "execution_count": null,
   "id": "20aeaba7-4efc-4252-9696-dacbfbd84245",
   "metadata": {},
   "outputs": [],
   "source": [
    "source = ColumnDataSource(pdf)\n",
    "\n",
    "plot = figure(\n",
    "    plot_width=800, \n",
    "    plot_height=300, \n",
    "    y_range=list(reversed(days)), \n",
    "    x_axis_type='datetime',\n",
    "    title=\"Requests by Time of Day\")\n",
    "\n",
    "plot.circle(\n",
    "    x='time', \n",
    "    y=jitter('day', width=0.6, range=plot.y_range),  \n",
    "    source=source, \n",
    "    alpha=0.3)\n",
    "\n",
    "plot.xaxis.formatter.days = ['%Hh']\n",
    "plot.x_range.range_padding = 0\n",
    "plot.ygrid.grid_line_color = None"
   ]
  },
  {
   "cell_type": "code",
   "execution_count": null,
   "id": "6fa7592f-1f73-4d52-919a-3856eef6368e",
   "metadata": {},
   "outputs": [],
   "source": [
    "from bokeh.io import show\n",
    "show(plot)"
   ]
  },
  {
   "cell_type": "code",
   "execution_count": null,
   "id": "20481264-d340-49f6-8c9c-bdec020e9803",
   "metadata": {},
   "outputs": [],
   "source": [
    "from bokeh.sampledata.commits import data"
   ]
  },
  {
   "cell_type": "code",
   "execution_count": null,
   "id": "83fb4ed2-3c26-4ff5-b905-7cb1db1d9902",
   "metadata": {},
   "outputs": [],
   "source": [
    "data"
   ]
  }
 ],
 "metadata": {
  "kernelspec": {
   "display_name": "Python 3",
   "language": "python",
   "name": "python3"
  },
  "language_info": {
   "codemirror_mode": {
    "name": "ipython",
    "version": 3
   },
   "file_extension": ".py",
   "mimetype": "text/x-python",
   "name": "python",
   "nbconvert_exporter": "python",
   "pygments_lexer": "ipython3",
   "version": "3.7.10"
  }
 },
 "nbformat": 4,
 "nbformat_minor": 5
}
