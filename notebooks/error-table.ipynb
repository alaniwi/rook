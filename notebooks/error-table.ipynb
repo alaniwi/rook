{
 "cells": [
  {
   "cell_type": "code",
   "execution_count": null,
   "id": "17aee11f-76c7-422f-a14a-97b2f450e9c1",
   "metadata": {},
   "outputs": [],
   "source": [
    "import pandas as pd\n"
   ]
  },
  {
   "cell_type": "code",
   "execution_count": null,
   "id": "6e89bceb-d11e-42cb-8e92-4df743c73024",
   "metadata": {},
   "outputs": [],
   "source": [
    "url = \"http://rook3.cloud.dkrz.de:80/outputs/rook/b1d519b2-d28d-11eb-8715-fa163e466023/wps_requests.csv\""
   ]
  },
  {
   "cell_type": "code",
   "execution_count": null,
   "id": "2484f626-2cd2-4550-9add-a660becd7bbe",
   "metadata": {},
   "outputs": [],
   "source": [
    "df = pd.read_csv(url, parse_dates=[4, 5])"
   ]
  },
  {
   "cell_type": "code",
   "execution_count": null,
   "id": "25a86b87-2f95-454e-939d-7f8060753e2b",
   "metadata": {},
   "outputs": [],
   "source": [
    "edf = df.loc[df[\"status\"] == 5]"
   ]
  },
  {
   "cell_type": "code",
   "execution_count": null,
   "id": "eeb95445-73b0-40fe-afbd-cd3491a35841",
   "metadata": {},
   "outputs": [],
   "source": [
    "gdf = edf.groupby(pd.Grouper(key=\"message\"))"
   ]
  },
  {
   "cell_type": "code",
   "execution_count": null,
   "id": "7a9fe392-af07-435a-b2dc-55f9a4cf11e3",
   "metadata": {},
   "outputs": [],
   "source": [
    "adf = gdf.agg(\n",
    "    First=('time_start', 'min'), \n",
    "    Last=('time_start', 'max'), \n",
    "    Count=('uuid', 'count'))"
   ]
  },
  {
   "cell_type": "code",
   "execution_count": null,
   "id": "8455619b-00de-4692-82c3-406e3fb9aa82",
   "metadata": {},
   "outputs": [],
   "source": [
    "pdf = pd.DataFrame()"
   ]
  },
  {
   "cell_type": "code",
   "execution_count": null,
   "id": "06fee61e-2fa3-4da7-9281-acda2296e2dc",
   "metadata": {},
   "outputs": [],
   "source": [
    "pdf[\"Message\"] = adf.index\n",
    "pdf[\"First\"] = adf.First.dt.date.values\n",
    "pdf[\"Last\"] = adf.Last.dt.date.values\n",
    "pdf[\"Count\"] = adf.Count.values\n",
    "pdf = pdf.sort_values(by=[\"Last\"], ascending=False)"
   ]
  },
  {
   "cell_type": "code",
   "execution_count": null,
   "id": "5b7f9b29-a44c-41b9-ac4e-f36446f127b0",
   "metadata": {},
   "outputs": [],
   "source": [
    "df.loc[df[\"status\"] == 4].uuid.count()"
   ]
  },
  {
   "cell_type": "code",
   "execution_count": null,
   "id": "1eb597b0-dfb7-458c-a445-31dd35b879c1",
   "metadata": {},
   "outputs": [],
   "source": [
    "counts = df.groupby(pd.Grouper(key=\"time_start\", freq=\"1D\")).uuid.count()"
   ]
  },
  {
   "cell_type": "code",
   "execution_count": null,
   "id": "1f99e9ee-236c-4d14-ae9d-bb8e25825b8d",
   "metadata": {},
   "outputs": [],
   "source": [
    "counts.min()"
   ]
  },
  {
   "cell_type": "code",
   "execution_count": null,
   "id": "0b94245d-2ad9-483b-a769-62108529e92e",
   "metadata": {},
   "outputs": [],
   "source": [
    "counts.max()"
   ]
  },
  {
   "cell_type": "code",
   "execution_count": null,
   "id": "a3fb0288-9f87-4bd5-85eb-7ba0c30bc554",
   "metadata": {},
   "outputs": [],
   "source": [
    "counts.median()"
   ]
  }
 ],
 "metadata": {
  "kernelspec": {
   "display_name": "Python 3",
   "language": "python",
   "name": "python3"
  },
  "language_info": {
   "codemirror_mode": {
    "name": "ipython",
    "version": 3
   },
   "file_extension": ".py",
   "mimetype": "text/x-python",
   "name": "python",
   "nbconvert_exporter": "python",
   "pygments_lexer": "ipython3",
   "version": "3.7.10"
  }
 },
 "nbformat": 4,
 "nbformat_minor": 5
}
