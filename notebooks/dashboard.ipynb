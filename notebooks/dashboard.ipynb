{
 "cells": [
  {
   "cell_type": "code",
   "execution_count": null,
   "id": "59109053-8451-421a-930c-534bfe75e2f8",
   "metadata": {},
   "outputs": [],
   "source": [
    "from rook.dashboard import Dashboard"
   ]
  },
  {
   "cell_type": "code",
   "execution_count": null,
   "id": "7384ef24-299e-42c9-8a7a-fc990a02ce14",
   "metadata": {},
   "outputs": [],
   "source": [
    "dash = Dashboard(\"/tmp\")"
   ]
  },
  {
   "cell_type": "code",
   "execution_count": null,
   "id": "1cd42832-c7fe-405a-b927-663d996fddff",
   "metadata": {},
   "outputs": [],
   "source": [
    "dash.load(\n",
    "        \"http://rook3.cloud.dkrz.de:80/outputs/rook/34369610-d351-11eb-8f86-fa163e466023/wps_requests.csv\",\n",
    "        filter=\"orchestrate\",\n",
    "    )\n",
    "\n",
    "dash.load_downloads(\n",
    "        \"http://rook3.cloud.dkrz.de:80/outputs/rook/34369610-d351-11eb-8f86-fa163e466023/downloads.csv\",\n",
    "    )"
   ]
  },
  {
   "cell_type": "code",
   "execution_count": null,
   "id": "9fc29c58-067b-409b-b047-1c7ae1e5d3c8",
   "metadata": {},
   "outputs": [],
   "source": [
    "dash.write()"
   ]
  },
  {
   "cell_type": "code",
   "execution_count": null,
   "id": "3175d999-2052-4741-b19d-3ec371e0713c",
   "metadata": {},
   "outputs": [],
   "source": [
    "import IPython\n",
    "IPython.display.HTML(\"/tmp/dashboard.html\")"
   ]
  },
  {
   "cell_type": "code",
   "execution_count": null,
   "id": "80388a16-d341-416b-8b9c-940fb0cd77e9",
   "metadata": {},
   "outputs": [],
   "source": [
    "import pandas as pd"
   ]
  },
  {
   "cell_type": "code",
   "execution_count": null,
   "id": "78d6ebd9-6717-4f9f-a608-f7fec855bac1",
   "metadata": {},
   "outputs": [],
   "source": [
    "import requests\n",
    "from io import StringIO\n",
    "ghc_url = \"https://geohealthcheck.cloud.dkrz.de/resource/45/history/csv\"\n",
    "req = requests.get(ghc_url, verify=False)\n",
    "df_ghc = pd.read_csv(StringIO(req.text), parse_dates=['checked_datetime'])\n",
    "df_ghc"
   ]
  },
  {
   "cell_type": "code",
   "execution_count": null,
   "id": "dbb74983-ba8e-41c6-8224-3a28f01a0b8f",
   "metadata": {},
   "outputs": [],
   "source": [
    "df_ghc[\"down\"] = df_ghc.status.apply(lambda x: 1 if x=='False' else 0)\n",
    "gdf = df_ghc.groupby(pd.Grouper(key=\"checked_datetime\", freq=\"1D\"))\n"
   ]
  },
  {
   "cell_type": "code",
   "execution_count": null,
   "id": "c229d50b-c852-4db5-a9d0-e5455a5680df",
   "metadata": {},
   "outputs": [],
   "source": [
    "df = gdf.sum()\n",
    "df"
   ]
  },
  {
   "cell_type": "code",
   "execution_count": null,
   "id": "98058ba3-8ead-4618-bceb-1c62d62a2fea",
   "metadata": {},
   "outputs": [],
   "source": [
    "from bokeh.plotting import figure, show\n",
    "from bokeh.models import ColumnDataSource"
   ]
  },
  {
   "cell_type": "code",
   "execution_count": null,
   "id": "90d07d4c-9534-461a-89a7-91e6bfa2584f",
   "metadata": {},
   "outputs": [],
   "source": [
    "plot = figure(\n",
    "        title=\"Up\",\n",
    "        tools=\"\",\n",
    "        toolbar_location=None,\n",
    "        # x_axis_label=\"Date\",\n",
    "        x_axis_type=\"datetime\",\n",
    "        # y_axis_label=\"Requests per day\",\n",
    "        sizing_mode=\"scale_width\",\n",
    "        plot_height=100,\n",
    "    )\n",
    "plot.line(x=\"checked_datetime\", y=\"down\", source=ColumnDataSource(df), color=\"green\")"
   ]
  },
  {
   "cell_type": "code",
   "execution_count": null,
   "id": "aaf0dab6-97a2-4065-83ba-8cf3040607ad",
   "metadata": {},
   "outputs": [],
   "source": [
    "show(plot)"
   ]
  },
  {
   "cell_type": "code",
   "execution_count": null,
   "id": "15846309-44f1-407d-ab45-9df83b803486",
   "metadata": {},
   "outputs": [],
   "source": []
  }
 ],
 "metadata": {
  "kernelspec": {
   "display_name": "Python 3",
   "language": "python",
   "name": "python3"
  },
  "language_info": {
   "codemirror_mode": {
    "name": "ipython",
    "version": 3
   },
   "file_extension": ".py",
   "mimetype": "text/x-python",
   "name": "python",
   "nbconvert_exporter": "python",
   "pygments_lexer": "ipython3",
   "version": "3.7.10"
  }
 },
 "nbformat": 4,
 "nbformat_minor": 5
}
